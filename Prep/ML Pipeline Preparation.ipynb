{
 "cells": [
  {
   "cell_type": "markdown",
   "metadata": {},
   "source": [
    "# ML Pipeline Preparation\n",
    "Follow the instructions below to help you create your ML pipeline.\n",
    "### 1. Import libraries and load data from database.\n",
    "- Import Python libraries\n",
    "- Load dataset from database with [`read_sql_table`](https://pandas.pydata.org/pandas-docs/stable/generated/pandas.read_sql_table.html)\n",
    "- Define feature and target variables X and Y"
   ]
  },
  {
   "cell_type": "code",
   "execution_count": 1,
   "metadata": {},
   "outputs": [
    {
     "name": "stderr",
     "output_type": "stream",
     "text": [
      "[nltk_data] Downloading package punkt to\n",
      "[nltk_data]     C:\\Users\\TCVOAYDOGMUS\\AppData\\Roaming\\nltk_data...\n",
      "[nltk_data]   Package punkt is already up-to-date!\n",
      "[nltk_data] Downloading package wordnet to\n",
      "[nltk_data]     C:\\Users\\TCVOAYDOGMUS\\AppData\\Roaming\\nltk_data...\n",
      "[nltk_data]   Package wordnet is already up-to-date!\n"
     ]
    }
   ],
   "source": [
    "# import libraries\n",
    "from sqlalchemy import create_engine\n",
    "import nltk\n",
    "nltk.download(['punkt', 'wordnet'])\n",
    "\n",
    "import re\n",
    "import numpy as np\n",
    "import pandas as pd\n",
    "from nltk.tokenize import word_tokenize\n",
    "from nltk.stem import WordNetLemmatizer\n",
    "from sklearn.metrics import confusion_matrix, classification_report\n",
    "from sklearn.model_selection import train_test_split\n",
    "from sklearn.ensemble import RandomForestClassifier\n",
    "from sklearn.feature_extraction.text import CountVectorizer, TfidfTransformer\n",
    "from sklearn.pipeline import Pipeline\n",
    "from sklearn.model_selection import GridSearchCV\n",
    "from sklearn.multioutput import MultiOutputClassifier\n",
    "import pickle"
   ]
  },
  {
   "cell_type": "code",
   "execution_count": 3,
   "metadata": {},
   "outputs": [],
   "source": [
    "# load data from database\n",
    "engine = create_engine('sqlite:///ETL_Preparation.db')\n",
    "df = pd.read_sql_table('ETL_Preparation', engine)\n",
    "X = df.message\n",
    "y = df[df.columns[4:]]\n",
    "category_names = y.columns"
   ]
  },
  {
   "cell_type": "code",
   "execution_count": 7,
   "metadata": {},
   "outputs": [
    {
     "name": "stdout",
     "output_type": "stream",
     "text": [
      "<class 'pandas.core.frame.DataFrame'>\n",
      "RangeIndex: 26216 entries, 0 to 26215\n",
      "Data columns (total 40 columns):\n",
      " #   Column                       Non-Null Count  Dtype \n",
      "---  ------                       --------------  ----- \n",
      " 0   id                           26216 non-null  int64 \n",
      " 1   message                      26216 non-null  object\n",
      " 2   original                     10170 non-null  object\n",
      " 3   genre                        26216 non-null  object\n",
      " 4   ('related',)                 26216 non-null  int64 \n",
      " 5   ('request',)                 26216 non-null  int64 \n",
      " 6   ('offer',)                   26216 non-null  int64 \n",
      " 7   ('aid_related',)             26216 non-null  int64 \n",
      " 8   ('medical_help',)            26216 non-null  int64 \n",
      " 9   ('medical_products',)        26216 non-null  int64 \n",
      " 10  ('search_and_rescue',)       26216 non-null  int64 \n",
      " 11  ('security',)                26216 non-null  int64 \n",
      " 12  ('military',)                26216 non-null  int64 \n",
      " 13  ('child_alone',)             26216 non-null  int64 \n",
      " 14  ('water',)                   26216 non-null  int64 \n",
      " 15  ('food',)                    26216 non-null  int64 \n",
      " 16  ('shelter',)                 26216 non-null  int64 \n",
      " 17  ('clothing',)                26216 non-null  int64 \n",
      " 18  ('money',)                   26216 non-null  int64 \n",
      " 19  ('missing_people',)          26216 non-null  int64 \n",
      " 20  ('refugees',)                26216 non-null  int64 \n",
      " 21  ('death',)                   26216 non-null  int64 \n",
      " 22  ('other_aid',)               26216 non-null  int64 \n",
      " 23  ('infrastructure_related',)  26216 non-null  int64 \n",
      " 24  ('transport',)               26216 non-null  int64 \n",
      " 25  ('buildings',)               26216 non-null  int64 \n",
      " 26  ('electricity',)             26216 non-null  int64 \n",
      " 27  ('tools',)                   26216 non-null  int64 \n",
      " 28  ('hospitals',)               26216 non-null  int64 \n",
      " 29  ('shops',)                   26216 non-null  int64 \n",
      " 30  ('aid_centers',)             26216 non-null  int64 \n",
      " 31  ('other_infrastructure',)    26216 non-null  int64 \n",
      " 32  ('weather_related',)         26216 non-null  int64 \n",
      " 33  ('floods',)                  26216 non-null  int64 \n",
      " 34  ('storm',)                   26216 non-null  int64 \n",
      " 35  ('fire',)                    26216 non-null  int64 \n",
      " 36  ('earthquake',)              26216 non-null  int64 \n",
      " 37  ('cold',)                    26216 non-null  int64 \n",
      " 38  ('other_weather',)           26216 non-null  int64 \n",
      " 39  ('direct_report',)           26216 non-null  int64 \n",
      "dtypes: int64(37), object(3)\n",
      "memory usage: 8.0+ MB\n"
     ]
    }
   ],
   "source": [
    "df.info()"
   ]
  },
  {
   "cell_type": "markdown",
   "metadata": {},
   "source": [
    "### 2. Write a tokenization function to process your text data"
   ]
  },
  {
   "cell_type": "code",
   "execution_count": 4,
   "metadata": {},
   "outputs": [],
   "source": [
    "def tokenize(text):\n",
    "    url_regex = 'http[s]?://(?:[a-zA-Z]|[0-9]|[$-_@.&+]|[!*\\(\\),]|(?:%[0-9a-fA-F][0-9a-fA-F]))+'\n",
    "    detected_urls = re.findall(url_regex, text)\n",
    "    for url in detected_urls:\n",
    "        text = text.replace(url, \"urlplaceholder\")\n",
    "\n",
    "    tokens = word_tokenize(text)\n",
    "    lemmatizer = WordNetLemmatizer()\n",
    "\n",
    "    clean_tokens = []\n",
    "    for tok in tokens:\n",
    "        clean_tok = lemmatizer.lemmatize(tok).lower().strip()\n",
    "        clean_tokens.append(clean_tok)\n",
    "\n",
    "    return clean_tokens"
   ]
  },
  {
   "cell_type": "markdown",
   "metadata": {},
   "source": [
    "### 3. Build a machine learning pipeline\n",
    "This machine pipeline should take in the `message` column as input and output classification results on the other 36 categories in the dataset. You may find the [MultiOutputClassifier](http://scikit-learn.org/stable/modules/generated/sklearn.multioutput.MultiOutputClassifier.html) helpful for predicting multiple target variables."
   ]
  },
  {
   "cell_type": "code",
   "execution_count": 5,
   "metadata": {},
   "outputs": [],
   "source": [
    "pipeline = Pipeline([\n",
    "    ('vect', CountVectorizer(tokenizer=tokenize)),\n",
    "    ('tfidf', TfidfTransformer()),\n",
    "    ('clf', MultiOutputClassifier(RandomForestClassifier()))\n",
    "])"
   ]
  },
  {
   "cell_type": "markdown",
   "metadata": {},
   "source": [
    "### 4. Train pipeline\n",
    "- Split data into train and test sets\n",
    "- Train pipeline"
   ]
  },
  {
   "cell_type": "code",
   "execution_count": 6,
   "metadata": {},
   "outputs": [
    {
     "data": {
      "text/plain": [
       "Pipeline(steps=[('vect',\n",
       "                 CountVectorizer(tokenizer=<function tokenize at 0x00000127D5BBD0D0>)),\n",
       "                ('tfidf', TfidfTransformer()),\n",
       "                ('clf',\n",
       "                 MultiOutputClassifier(estimator=RandomForestClassifier()))])"
      ]
     },
     "execution_count": 6,
     "metadata": {},
     "output_type": "execute_result"
    }
   ],
   "source": [
    "X_train, X_test, y_train, y_test = train_test_split(X, y)\n",
    "pipeline.fit(X_train, y_train)"
   ]
  },
  {
   "cell_type": "markdown",
   "metadata": {},
   "source": [
    "### 5. Test your model\n",
    "Report the f1 score, precision and recall for each output category of the dataset. You can do this by iterating through the columns and calling sklearn's `classification_report` on each."
   ]
  },
  {
   "cell_type": "code",
   "execution_count": 8,
   "metadata": {},
   "outputs": [],
   "source": [
    "def display_results(y_test, y_pred):\n",
    "    labels = np.unique(y_pred)\n",
    "    confusion_mat = confusion_matrix(y_test, y_pred, labels=labels)\n",
    "    accuracy = (y_pred == y_test).mean()\n",
    "\n",
    "    print(\"Labels:\", labels)\n",
    "    print(\"Confusion Matrix:\\n\", confusion_mat)\n",
    "    print(\"Accuracy:\", accuracy)"
   ]
  },
  {
   "cell_type": "code",
   "execution_count": 17,
   "metadata": {},
   "outputs": [],
   "source": [
    "y_pred = pipeline.predict(X_test)"
   ]
  },
  {
   "cell_type": "code",
   "execution_count": null,
   "metadata": {},
   "outputs": [],
   "source": [
    "for i in range(36):\n",
    "    print(y_test.columns[i], ':')\n",
    "    print(classification_report(y_test.iloc[:,i], y_pred[:,i], target_names=category_names), '...................................................')"
   ]
  },
  {
   "cell_type": "code",
   "execution_count": null,
   "metadata": {},
   "outputs": [],
   "source": [
    "display_results(y_test[0], y_pred[0])"
   ]
  },
  {
   "cell_type": "markdown",
   "metadata": {},
   "source": [
    "### 6. Improve your model\n",
    "Use grid search to find better parameters. "
   ]
  },
  {
   "cell_type": "code",
   "execution_count": null,
   "metadata": {},
   "outputs": [
    {
     "data": {
      "text/plain": [
       "{'memory': None,\n",
       " 'steps': [('vect',\n",
       "   CountVectorizer(analyzer='word', binary=False, decode_error='strict',\n",
       "           dtype=<class 'numpy.int64'>, encoding='utf-8', input='content',\n",
       "           lowercase=True, max_df=1.0, max_features=None, min_df=1,\n",
       "           ngram_range=(1, 1), preprocessor=None, stop_words=None,\n",
       "           strip_accents=None, token_pattern='(?u)\\\\b\\\\w\\\\w+\\\\b',\n",
       "           tokenizer=<function tokenize at 0x7fe2747352f0>, vocabulary=None)),\n",
       "  ('tfidf',\n",
       "   TfidfTransformer(norm='l2', smooth_idf=True, sublinear_tf=False, use_idf=True)),\n",
       "  ('clf',\n",
       "   MultiOutputClassifier(estimator=RandomForestClassifier(bootstrap=True, class_weight=None, criterion='gini',\n",
       "               max_depth=None, max_features='auto', max_leaf_nodes=None,\n",
       "               min_impurity_decrease=0.0, min_impurity_split=None,\n",
       "               min_samples_leaf=1, min_samples_split=2,\n",
       "               min_weight_fraction_leaf=0.0, n_estimators=10, n_jobs=1,\n",
       "               oob_score=False, random_state=None, verbose=0,\n",
       "               warm_start=False),\n",
       "              n_jobs=1))],\n",
       " 'vect': CountVectorizer(analyzer='word', binary=False, decode_error='strict',\n",
       "         dtype=<class 'numpy.int64'>, encoding='utf-8', input='content',\n",
       "         lowercase=True, max_df=1.0, max_features=None, min_df=1,\n",
       "         ngram_range=(1, 1), preprocessor=None, stop_words=None,\n",
       "         strip_accents=None, token_pattern='(?u)\\\\b\\\\w\\\\w+\\\\b',\n",
       "         tokenizer=<function tokenize at 0x7fe2747352f0>, vocabulary=None),\n",
       " 'tfidf': TfidfTransformer(norm='l2', smooth_idf=True, sublinear_tf=False, use_idf=True),\n",
       " 'clf': MultiOutputClassifier(estimator=RandomForestClassifier(bootstrap=True, class_weight=None, criterion='gini',\n",
       "             max_depth=None, max_features='auto', max_leaf_nodes=None,\n",
       "             min_impurity_decrease=0.0, min_impurity_split=None,\n",
       "             min_samples_leaf=1, min_samples_split=2,\n",
       "             min_weight_fraction_leaf=0.0, n_estimators=10, n_jobs=1,\n",
       "             oob_score=False, random_state=None, verbose=0,\n",
       "             warm_start=False),\n",
       "            n_jobs=1),\n",
       " 'vect__analyzer': 'word',\n",
       " 'vect__binary': False,\n",
       " 'vect__decode_error': 'strict',\n",
       " 'vect__dtype': numpy.int64,\n",
       " 'vect__encoding': 'utf-8',\n",
       " 'vect__input': 'content',\n",
       " 'vect__lowercase': True,\n",
       " 'vect__max_df': 1.0,\n",
       " 'vect__max_features': None,\n",
       " 'vect__min_df': 1,\n",
       " 'vect__ngram_range': (1, 1),\n",
       " 'vect__preprocessor': None,\n",
       " 'vect__stop_words': None,\n",
       " 'vect__strip_accents': None,\n",
       " 'vect__token_pattern': '(?u)\\\\b\\\\w\\\\w+\\\\b',\n",
       " 'vect__tokenizer': <function __main__.tokenize(text)>,\n",
       " 'vect__vocabulary': None,\n",
       " 'tfidf__norm': 'l2',\n",
       " 'tfidf__smooth_idf': True,\n",
       " 'tfidf__sublinear_tf': False,\n",
       " 'tfidf__use_idf': True,\n",
       " 'clf__estimator__bootstrap': True,\n",
       " 'clf__estimator__class_weight': None,\n",
       " 'clf__estimator__criterion': 'gini',\n",
       " 'clf__estimator__max_depth': None,\n",
       " 'clf__estimator__max_features': 'auto',\n",
       " 'clf__estimator__max_leaf_nodes': None,\n",
       " 'clf__estimator__min_impurity_decrease': 0.0,\n",
       " 'clf__estimator__min_impurity_split': None,\n",
       " 'clf__estimator__min_samples_leaf': 1,\n",
       " 'clf__estimator__min_samples_split': 2,\n",
       " 'clf__estimator__min_weight_fraction_leaf': 0.0,\n",
       " 'clf__estimator__n_estimators': 10,\n",
       " 'clf__estimator__n_jobs': 1,\n",
       " 'clf__estimator__oob_score': False,\n",
       " 'clf__estimator__random_state': None,\n",
       " 'clf__estimator__verbose': 0,\n",
       " 'clf__estimator__warm_start': False,\n",
       " 'clf__estimator': RandomForestClassifier(bootstrap=True, class_weight=None, criterion='gini',\n",
       "             max_depth=None, max_features='auto', max_leaf_nodes=None,\n",
       "             min_impurity_decrease=0.0, min_impurity_split=None,\n",
       "             min_samples_leaf=1, min_samples_split=2,\n",
       "             min_weight_fraction_leaf=0.0, n_estimators=10, n_jobs=1,\n",
       "             oob_score=False, random_state=None, verbose=0,\n",
       "             warm_start=False),\n",
       " 'clf__n_jobs': 1}"
      ]
     },
     "execution_count": 8,
     "metadata": {},
     "output_type": "execute_result"
    }
   ],
   "source": [
    "pipeline.get_params()"
   ]
  },
  {
   "cell_type": "code",
   "execution_count": null,
   "metadata": {},
   "outputs": [],
   "source": [
    "parameters = {\n",
    "    #'vect__ngram_range': ((1, 1),(1,2)),\n",
    "    #'vect__max_df': (0.5, 0.75, 1.0),\n",
    "    #'vect__max_features': (None, 5000, 10000),\n",
    "    #'tfidf__use_idf': (True, False),\n",
    "    'clf__estimator__n_estimators': [50, 100, 150],\n",
    "    'clf__estimator__min_samples_split': [2, 3, 4],\n",
    "    \n",
    "}\n",
    "\n",
    "cv = GridSearchCV(pipeline, param_grid=parameters, n_jobs=4, verbose=2)"
   ]
  },
  {
   "cell_type": "code",
   "execution_count": null,
   "metadata": {
    "scrolled": false
   },
   "outputs": [
    {
     "name": "stdout",
     "output_type": "stream",
     "text": [
      "Fitting 3 folds for each of 9 candidates, totalling 27 fits\n",
      "[CV] clf__estimator__min_samples_split=2, clf__estimator__n_estimators=50 \n",
      "[CV] clf__estimator__min_samples_split=2, clf__estimator__n_estimators=50 \n",
      "[CV] clf__estimator__min_samples_split=2, clf__estimator__n_estimators=50 \n",
      "[CV] clf__estimator__min_samples_split=2, clf__estimator__n_estimators=100 \n",
      "[CV]  clf__estimator__min_samples_split=2, clf__estimator__n_estimators=50, total= 3.6min\n",
      "[CV] clf__estimator__min_samples_split=2, clf__estimator__n_estimators=100 \n",
      "[CV]  clf__estimator__min_samples_split=2, clf__estimator__n_estimators=50, total= 3.7min\n",
      "[CV] clf__estimator__min_samples_split=2, clf__estimator__n_estimators=100 \n",
      "[CV]  clf__estimator__min_samples_split=2, clf__estimator__n_estimators=50, total= 3.7min\n",
      "[CV] clf__estimator__min_samples_split=2, clf__estimator__n_estimators=150 \n",
      "[CV]  clf__estimator__min_samples_split=2, clf__estimator__n_estimators=100, total= 7.2min\n",
      "[CV] clf__estimator__min_samples_split=2, clf__estimator__n_estimators=150 \n",
      "[CV]  clf__estimator__min_samples_split=2, clf__estimator__n_estimators=100, total= 7.1min\n",
      "[CV] clf__estimator__min_samples_split=2, clf__estimator__n_estimators=150 \n",
      "[CV]  clf__estimator__min_samples_split=2, clf__estimator__n_estimators=100, total= 7.2min\n",
      "[CV] clf__estimator__min_samples_split=3, clf__estimator__n_estimators=50 \n",
      "[CV]  clf__estimator__min_samples_split=3, clf__estimator__n_estimators=50, total= 3.4min\n",
      "[CV] clf__estimator__min_samples_split=3, clf__estimator__n_estimators=50 \n",
      "[CV]  clf__estimator__min_samples_split=2, clf__estimator__n_estimators=150, total=10.7min\n",
      "[CV] clf__estimator__min_samples_split=3, clf__estimator__n_estimators=50 \n",
      "[CV]  clf__estimator__min_samples_split=2, clf__estimator__n_estimators=150, total=10.5min\n",
      "[CV] clf__estimator__min_samples_split=3, clf__estimator__n_estimators=100 \n",
      "[CV]  clf__estimator__min_samples_split=3, clf__estimator__n_estimators=50, total= 3.3min\n",
      "[CV] clf__estimator__min_samples_split=3, clf__estimator__n_estimators=100 \n",
      "[CV]  clf__estimator__min_samples_split=3, clf__estimator__n_estimators=50, total= 3.3min\n",
      "[CV] clf__estimator__min_samples_split=3, clf__estimator__n_estimators=100 \n",
      "[CV]  clf__estimator__min_samples_split=2, clf__estimator__n_estimators=150, total=10.4min\n",
      "[CV] clf__estimator__min_samples_split=3, clf__estimator__n_estimators=150 \n",
      "[CV]  clf__estimator__min_samples_split=3, clf__estimator__n_estimators=100, total= 6.4min\n",
      "[CV] clf__estimator__min_samples_split=3, clf__estimator__n_estimators=150 \n",
      "[CV]  clf__estimator__min_samples_split=3, clf__estimator__n_estimators=100, total= 6.3min\n",
      "[CV] clf__estimator__min_samples_split=3, clf__estimator__n_estimators=150 \n",
      "[CV]  clf__estimator__min_samples_split=3, clf__estimator__n_estimators=100, total= 6.4min\n",
      "[CV] clf__estimator__min_samples_split=4, clf__estimator__n_estimators=50 \n",
      "[CV]  clf__estimator__min_samples_split=4, clf__estimator__n_estimators=50, total= 3.2min\n",
      "[CV] clf__estimator__min_samples_split=4, clf__estimator__n_estimators=50 \n",
      "[CV]  clf__estimator__min_samples_split=3, clf__estimator__n_estimators=150, total= 9.5min\n",
      "[CV] clf__estimator__min_samples_split=4, clf__estimator__n_estimators=50 \n",
      "[CV]  clf__estimator__min_samples_split=4, clf__estimator__n_estimators=50, total= 3.1min\n",
      "[CV] clf__estimator__min_samples_split=4, clf__estimator__n_estimators=100 \n",
      "[CV]  clf__estimator__min_samples_split=3, clf__estimator__n_estimators=150, total= 9.3min\n",
      "[CV] clf__estimator__min_samples_split=4, clf__estimator__n_estimators=100 \n",
      "[CV]  clf__estimator__min_samples_split=3, clf__estimator__n_estimators=150, total= 9.5min\n",
      "[CV] clf__estimator__min_samples_split=4, clf__estimator__n_estimators=100 \n",
      "[CV]  clf__estimator__min_samples_split=4, clf__estimator__n_estimators=50, total= 3.1min\n",
      "[CV] clf__estimator__min_samples_split=4, clf__estimator__n_estimators=150 \n",
      "[CV]  clf__estimator__min_samples_split=4, clf__estimator__n_estimators=100, total= 6.1min\n",
      "[CV] clf__estimator__min_samples_split=4, clf__estimator__n_estimators=150 \n",
      "[CV]  clf__estimator__min_samples_split=4, clf__estimator__n_estimators=100, total= 6.0min\n",
      "[CV] clf__estimator__min_samples_split=4, clf__estimator__n_estimators=150 \n",
      "[CV]  clf__estimator__min_samples_split=4, clf__estimator__n_estimators=100, total= 5.9min\n",
      "[CV]  clf__estimator__min_samples_split=4, clf__estimator__n_estimators=150, total= 8.2min\n",
      "[CV]  clf__estimator__min_samples_split=4, clf__estimator__n_estimators=150, total= 6.7min\n",
      "[CV]  clf__estimator__min_samples_split=4, clf__estimator__n_estimators=150, total= 4.8min\n"
     ]
    },
    {
     "name": "stderr",
     "output_type": "stream",
     "text": [
      "[Parallel(n_jobs=4)]: Done  27 out of  27 | elapsed: 48.7min finished\n"
     ]
    },
    {
     "data": {
      "text/plain": [
       "GridSearchCV(cv=None, error_score='raise',\n",
       "       estimator=Pipeline(memory=None,\n",
       "     steps=[('vect', CountVectorizer(analyzer='word', binary=False, decode_error='strict',\n",
       "        dtype=<class 'numpy.int64'>, encoding='utf-8', input='content',\n",
       "        lowercase=True, max_df=1.0, max_features=None, min_df=1,\n",
       "        ngram_range=(1, 1), preprocessor=None, stop_words=None,\n",
       "        strip...oob_score=False, random_state=None, verbose=0,\n",
       "            warm_start=False),\n",
       "           n_jobs=1))]),\n",
       "       fit_params=None, iid=True, n_jobs=4,\n",
       "       param_grid={'clf__estimator__n_estimators': [50, 100, 150], 'clf__estimator__min_samples_split': [2, 3, 4]},\n",
       "       pre_dispatch='2*n_jobs', refit=True, return_train_score='warn',\n",
       "       scoring=None, verbose=2)"
      ]
     },
     "execution_count": 7,
     "metadata": {},
     "output_type": "execute_result"
    }
   ],
   "source": [
    "#MultiOutputClassifier(KNeighborsClassifier()).fit(X, y)\n",
    "\n",
    "cv.fit(X_train, y_train)"
   ]
  },
  {
   "cell_type": "code",
   "execution_count": null,
   "metadata": {},
   "outputs": [
    {
     "name": "stderr",
     "output_type": "stream",
     "text": [
      "/opt/conda/lib/python3.6/site-packages/sklearn/model_selection/_search.py:761: DeprecationWarning: The grid_scores_ attribute was deprecated in version 0.18 in favor of the more elaborate cv_results_ attribute. The grid_scores_ attribute will not be available from 0.20\n",
      "  DeprecationWarning)\n"
     ]
    },
    {
     "data": {
      "text/plain": [
       "[mean: 0.15743, std: 0.00200, params: {'clf__estimator__min_samples_split': 2, 'clf__estimator__n_estimators': 50},\n",
       " mean: 0.16004, std: 0.00364, params: {'clf__estimator__min_samples_split': 2, 'clf__estimator__n_estimators': 100},\n",
       " mean: 0.15808, std: 0.00366, params: {'clf__estimator__min_samples_split': 2, 'clf__estimator__n_estimators': 150},\n",
       " mean: 0.14830, std: 0.00413, params: {'clf__estimator__min_samples_split': 3, 'clf__estimator__n_estimators': 50},\n",
       " mean: 0.15573, std: 0.00302, params: {'clf__estimator__min_samples_split': 3, 'clf__estimator__n_estimators': 100},\n",
       " mean: 0.16173, std: 0.00110, params: {'clf__estimator__min_samples_split': 3, 'clf__estimator__n_estimators': 150},\n",
       " mean: 0.14895, std: 0.00130, params: {'clf__estimator__min_samples_split': 4, 'clf__estimator__n_estimators': 50},\n",
       " mean: 0.15638, std: 0.00081, params: {'clf__estimator__min_samples_split': 4, 'clf__estimator__n_estimators': 100},\n",
       " mean: 0.16043, std: 0.00170, params: {'clf__estimator__min_samples_split': 4, 'clf__estimator__n_estimators': 150}]"
      ]
     },
     "execution_count": 8,
     "metadata": {},
     "output_type": "execute_result"
    }
   ],
   "source": [
    "cv.grid_scores_"
   ]
  },
  {
   "cell_type": "code",
   "execution_count": null,
   "metadata": {},
   "outputs": [
    {
     "name": "stdout",
     "output_type": "stream",
     "text": [
      "{'clf__estimator__min_samples_split': 3, 'clf__estimator__n_estimators': 150}\n"
     ]
    }
   ],
   "source": [
    "#finding the best paramesters based on grip search\n",
    "print(cv.best_params_)"
   ]
  },
  {
   "cell_type": "code",
   "execution_count": null,
   "metadata": {},
   "outputs": [
    {
     "name": "stdout",
     "output_type": "stream",
     "text": [
      "Pipeline(memory=None,\n",
      "     steps=[('vect', CountVectorizer(analyzer='word', binary=False, decode_error='strict',\n",
      "        dtype=<class 'numpy.int64'>, encoding='utf-8', input='content',\n",
      "        lowercase=True, max_df=1.0, max_features=None, min_df=1,\n",
      "        ngram_range=(1, 1), preprocessor=None, stop_words=None,\n",
      "        strip...oob_score=False, random_state=None, verbose=0,\n",
      "            warm_start=False),\n",
      "           n_jobs=1))])\n"
     ]
    }
   ],
   "source": [
    "#building new model\n",
    "optimised_model = cv.best_estimator_\n",
    "print (cv.best_estimator_)"
   ]
  },
  {
   "cell_type": "markdown",
   "metadata": {},
   "source": [
    "### 7. Test your model\n",
    "Show the accuracy, precision, and recall of the tuned model.  \n",
    "\n",
    "Since this project focuses on code quality, process, and  pipelines, there is no minimum performance metric needed to pass. However, make sure to fine tune your models for accuracy, precision and recall to make your project stand out - especially for your portfolio!"
   ]
  },
  {
   "cell_type": "code",
   "execution_count": null,
   "metadata": {
    "scrolled": true
   },
   "outputs": [
    {
     "name": "stdout",
     "output_type": "stream",
     "text": [
      "related :\n",
      "             precision    recall  f1-score   support\n",
      "\n",
      "        0.0       0.39      0.06      0.10       848\n",
      "        1.0       0.66      0.96      0.78      1672\n",
      "        2.0       1.00      0.03      0.05        36\n",
      "\n",
      "avg / total       0.57      0.64      0.54      2556\n",
      " ...................................................\n",
      "request :\n",
      "             precision    recall  f1-score   support\n",
      "\n",
      "        0.0       0.67      0.94      0.78      1685\n",
      "        1.0       0.47      0.10      0.16       871\n",
      "\n",
      "avg / total       0.60      0.65      0.57      2556\n",
      " ...................................................\n",
      "offer :\n",
      "             precision    recall  f1-score   support\n",
      "\n",
      "        0.0       1.00      1.00      1.00      2553\n",
      "        1.0       0.00      0.00      0.00         3\n",
      "\n",
      "avg / total       1.00      1.00      1.00      2556\n",
      " ...................................................\n",
      "aid_related :\n",
      "             precision    recall  f1-score   support\n",
      "\n",
      "        0.0       0.63      0.89      0.74      1578\n",
      "        1.0       0.48      0.17      0.25       978\n",
      "\n",
      "avg / total       0.57      0.61      0.55      2556\n",
      " ...................................................\n",
      "medical_help :\n",
      "             precision    recall  f1-score   support\n",
      "\n",
      "        0.0       0.94      1.00      0.97      2401\n",
      "        1.0       0.00      0.00      0.00       155\n",
      "\n",
      "avg / total       0.88      0.94      0.91      2556\n",
      " ...................................................\n",
      "medical_products :\n",
      "             precision    recall  f1-score   support\n",
      "\n",
      "        0.0       0.96      1.00      0.98      2456\n",
      "        1.0       0.00      0.00      0.00       100\n",
      "\n",
      "avg / total       0.92      0.96      0.94      2556\n",
      " ...................................................\n",
      "search_and_rescue :\n",
      "             precision    recall  f1-score   support\n",
      "\n",
      "        0.0       0.98      1.00      0.99      2500\n",
      "        1.0       0.00      0.00      0.00        56\n",
      "\n",
      "avg / total       0.96      0.98      0.97      2556\n",
      " ...................................................\n",
      "security :\n",
      "             precision    recall  f1-score   support\n",
      "\n",
      "        0.0       0.99      1.00      0.99      2519\n",
      "        1.0       0.00      0.00      0.00        37\n",
      "\n",
      "avg / total       0.97      0.99      0.98      2556\n",
      " ...................................................\n",
      "military :\n",
      "             precision    recall  f1-score   support\n",
      "\n",
      "        0.0       1.00      1.00      1.00      2549\n",
      "        1.0       0.00      0.00      0.00         7\n",
      "\n",
      "avg / total       0.99      1.00      1.00      2556\n",
      " ...................................................\n",
      "child_alone :\n",
      "             precision    recall  f1-score   support\n",
      "\n",
      "        0.0       1.00      1.00      1.00      2556\n",
      "\n",
      "avg / total       1.00      1.00      1.00      2556\n",
      " ...................................................\n",
      "water :\n",
      "             precision    recall  f1-score   support\n",
      "\n",
      "        0.0       0.93      1.00      0.96      2366\n",
      "        1.0       0.00      0.00      0.00       190\n",
      "\n",
      "avg / total       0.86      0.92      0.89      2556\n",
      " ...................................................\n",
      "food :\n",
      "             precision    recall  f1-score   support\n",
      "\n",
      "        0.0       0.85      0.99      0.92      2173\n",
      "        1.0       0.21      0.01      0.02       383\n",
      "\n",
      "avg / total       0.76      0.85      0.78      2556\n",
      " ...................................................\n",
      "shelter :\n",
      "             precision    recall  f1-score   support\n",
      "\n",
      "        0.0       0.89      0.99      0.94      2279\n",
      "        1.0       0.07      0.00      0.01       277\n",
      "\n",
      "avg / total       0.80      0.89      0.84      2556\n",
      " ...................................................\n",
      "clothing :\n",
      "             precision    recall  f1-score   support\n",
      "\n",
      "        0.0       0.99      1.00      1.00      2536\n",
      "        1.0       0.00      0.00      0.00        20\n",
      "\n",
      "avg / total       0.98      0.99      0.99      2556\n",
      " ...................................................\n",
      "money :\n",
      "             precision    recall  f1-score   support\n",
      "\n",
      "        0.0       0.99      1.00      0.99      2522\n",
      "        1.0       0.00      0.00      0.00        34\n",
      "\n",
      "avg / total       0.97      0.99      0.98      2556\n",
      " ...................................................\n",
      "missing_people :\n",
      "             precision    recall  f1-score   support\n",
      "\n",
      "        0.0       0.99      1.00      1.00      2535\n",
      "        1.0       0.00      0.00      0.00        21\n",
      "\n",
      "avg / total       0.98      0.99      0.99      2556\n",
      " ...................................................\n",
      "refugees :\n",
      "             precision    recall  f1-score   support\n",
      "\n",
      "        0.0       0.99      1.00      0.99      2520\n",
      "        1.0       0.00      0.00      0.00        36\n",
      "\n",
      "avg / total       0.97      0.99      0.98      2556\n",
      " ...................................................\n",
      "death :\n",
      "             precision    recall  f1-score   support\n",
      "\n",
      "        0.0       0.98      1.00      0.99      2499\n",
      "        1.0       0.00      0.00      0.00        57\n",
      "\n",
      "avg / total       0.96      0.98      0.97      2556\n",
      " ...................................................\n",
      "other_aid :\n",
      "             precision    recall  f1-score   support\n",
      "\n",
      "        0.0       0.86      0.99      0.92      2198\n",
      "        1.0       0.06      0.00      0.01       358\n",
      "\n",
      "avg / total       0.75      0.85      0.79      2556\n",
      " ...................................................\n",
      "infrastructure_related :\n",
      "             precision    recall  f1-score   support\n",
      "\n",
      "        0.0       0.97      1.00      0.98      2479\n",
      "        1.0       0.33      0.01      0.03        77\n",
      "\n",
      "avg / total       0.95      0.97      0.96      2556\n",
      " ...................................................\n",
      "transport :\n",
      "             precision    recall  f1-score   support\n",
      "\n",
      "        0.0       0.98      1.00      0.99      2503\n",
      "        1.0       0.00      0.00      0.00        53\n",
      "\n",
      "avg / total       0.96      0.98      0.97      2556\n",
      " ...................................................\n",
      "buildings :\n",
      "             precision    recall  f1-score   support\n",
      "\n",
      "        0.0       0.97      1.00      0.98      2469\n",
      "        1.0       0.00      0.00      0.00        87\n",
      "\n",
      "avg / total       0.93      0.96      0.95      2556\n",
      " ...................................................\n",
      "electricity :\n",
      "             precision    recall  f1-score   support\n",
      "\n",
      "        0.0       0.99      1.00      1.00      2539\n",
      "        1.0       0.00      0.00      0.00        17\n",
      "\n",
      "avg / total       0.99      0.99      0.99      2556\n",
      " ...................................................\n",
      "tools :\n",
      "             precision    recall  f1-score   support\n",
      "\n",
      "        0.0       1.00      1.00      1.00      2551\n",
      "        1.0       0.00      0.00      0.00         5\n",
      "\n",
      "avg / total       1.00      1.00      1.00      2556\n",
      " ...................................................\n",
      "hospitals :\n",
      "             precision    recall  f1-score   support\n",
      "\n",
      "        0.0       1.00      1.00      1.00      2547\n",
      "        1.0       0.00      0.00      0.00         9\n",
      "\n",
      "avg / total       0.99      1.00      0.99      2556\n",
      " ...................................................\n",
      "shops :\n",
      "             precision    recall  f1-score   support\n",
      "\n",
      "        0.0       1.00      1.00      1.00      2551\n",
      "        1.0       0.00      0.00      0.00         5\n",
      "\n",
      "avg / total       1.00      1.00      1.00      2556\n",
      " ...................................................\n",
      "aid_centers :\n",
      "             precision    recall  f1-score   support\n",
      "\n",
      "        0.0       0.99      1.00      1.00      2531\n",
      "        1.0       0.00      0.00      0.00        25\n",
      "\n",
      "avg / total       0.98      0.99      0.99      2556\n",
      " ...................................................\n",
      "other_infrastructure :\n",
      "             precision    recall  f1-score   support\n",
      "\n",
      "        0.0       0.98      1.00      0.99      2512\n",
      "        1.0       1.00      0.02      0.04        44\n",
      "\n",
      "avg / total       0.98      0.98      0.98      2556\n",
      " ...................................................\n",
      "weather_related :\n",
      "             precision    recall  f1-score   support\n",
      "\n",
      "        0.0       0.86      0.98      0.92      2187\n",
      "        1.0       0.20      0.02      0.04       369\n",
      "\n",
      "avg / total       0.76      0.85      0.79      2556\n",
      " ...................................................\n",
      "floods :\n",
      "             precision    recall  f1-score   support\n",
      "\n",
      "        0.0       0.98      1.00      0.99      2491\n",
      "        1.0       0.60      0.05      0.09        65\n",
      "\n",
      "avg / total       0.97      0.97      0.96      2556\n",
      " ...................................................\n",
      "storm :\n",
      "             precision    recall  f1-score   support\n",
      "\n",
      "        0.0       0.97      1.00      0.99      2488\n",
      "        1.0       0.50      0.04      0.08        68\n",
      "\n",
      "avg / total       0.96      0.97      0.96      2556\n",
      " ...................................................\n",
      "fire :\n",
      "             precision    recall  f1-score   support\n",
      "\n",
      "        0.0       1.00      1.00      1.00      2548\n",
      "        1.0       0.00      0.00      0.00         8\n",
      "\n",
      "avg / total       0.99      1.00      1.00      2556\n",
      " ...................................................\n",
      "earthquake :\n",
      "             precision    recall  f1-score   support\n",
      "\n",
      "        0.0       0.92      1.00      0.96      2347\n",
      "        1.0       0.12      0.00      0.01       209\n",
      "\n",
      "avg / total       0.85      0.92      0.88      2556\n",
      " ...................................................\n",
      "cold :\n",
      "             precision    recall  f1-score   support\n",
      "\n",
      "        0.0       0.99      1.00      1.00      2538\n",
      "        1.0       0.00      0.00      0.00        18\n",
      "\n",
      "avg / total       0.99      0.99      0.99      2556\n",
      " ...................................................\n",
      "other_weather :\n",
      "             precision    recall  f1-score   support\n",
      "\n",
      "        0.0       0.98      1.00      0.99      2510\n",
      "        1.0       0.00      0.00      0.00        46\n",
      "\n",
      "avg / total       0.96      0.98      0.97      2556\n",
      " ...................................................\n",
      "direct_report :\n",
      "             precision    recall  f1-score   support\n",
      "\n",
      "        0.0       0.67      0.95      0.78      1695\n",
      "        1.0       0.40      0.06      0.11       861\n",
      "\n",
      "avg / total       0.58      0.65      0.56      2556\n",
      " ...................................................\n"
     ]
    },
    {
     "name": "stderr",
     "output_type": "stream",
     "text": [
      "/opt/conda/lib/python3.6/site-packages/sklearn/metrics/classification.py:1135: UndefinedMetricWarning: Precision and F-score are ill-defined and being set to 0.0 in labels with no predicted samples.\n",
      "  'precision', 'predicted', average, warn_for)\n"
     ]
    }
   ],
   "source": [
    "y_pred = optimised_model.predict(X_test)\n",
    "\n",
    "for i in range(36):\n",
    "    print(y_test.columns[i], ':')\n",
    "    print(classification_report(y_test.iloc[:,i], y_pred[:,i]), '...................................................')"
   ]
  },
  {
   "cell_type": "markdown",
   "metadata": {},
   "source": [
    "### 8. Try improving your model further. Here are a few ideas:\n",
    "* try other machine learning algorithms\n",
    "* add other features besides the TF-IDF"
   ]
  },
  {
   "cell_type": "code",
   "execution_count": null,
   "metadata": {},
   "outputs": [],
   "source": []
  },
  {
   "cell_type": "markdown",
   "metadata": {},
   "source": [
    "### 9. Export your model as a pickle file"
   ]
  },
  {
   "cell_type": "code",
   "execution_count": null,
   "metadata": {},
   "outputs": [],
   "source": [
    "with open('MLclassifier.pkl', 'wb') as file:\n",
    "    pickle.dump(optimised_model, file)"
   ]
  },
  {
   "cell_type": "markdown",
   "metadata": {},
   "source": [
    "### 10. Use this notebook to complete `train.py`\n",
    "Use the template file attached in the Resources folder to write a script that runs the steps above to create a database and export a model based on a new dataset specified by the user."
   ]
  },
  {
   "cell_type": "code",
   "execution_count": null,
   "metadata": {},
   "outputs": [],
   "source": []
  }
 ],
 "metadata": {
  "kernelspec": {
   "display_name": "Python 3.8.13 ('base': conda)",
   "language": "python",
   "name": "python3"
  },
  "language_info": {
   "codemirror_mode": {
    "name": "ipython",
    "version": 3
   },
   "file_extension": ".py",
   "mimetype": "text/x-python",
   "name": "python",
   "nbconvert_exporter": "python",
   "pygments_lexer": "ipython3",
   "version": "3.8.13"
  },
  "vscode": {
   "interpreter": {
    "hash": "873afe73b60c7132c7eb1743662cd12c58dcb85ebea6d0a7e5bb6f5809a2eddf"
   }
  }
 },
 "nbformat": 4,
 "nbformat_minor": 2
}
